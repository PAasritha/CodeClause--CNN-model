{
  "nbformat": 4,
  "nbformat_minor": 0,
  "metadata": {
    "colab": {
      "provenance": []
    },
    "kernelspec": {
      "name": "python3",
      "display_name": "Python 3"
    },
    "language_info": {
      "name": "python"
    }
  },
  "cells": [
    {
      "cell_type": "code",
      "execution_count": 1,
      "metadata": {
        "id": "CgyQ0UX3eqLv"
      },
      "outputs": [],
      "source": [
        "import tensorflow as tf\n",
        "from tensorflow import keras\n",
        "from tensorflow.keras import layers"
      ]
    },
    {
      "cell_type": "code",
      "source": [
        "(x_train,y_train) , (x_test,y_test) = keras.datasets.cifar10.load_data()\n",
        "x_train , x_test = x_train / 255.0 , x_test/ 255.0"
      ],
      "metadata": {
        "colab": {
          "base_uri": "https://localhost:8080/"
        },
        "id": "k4_xzlOLfBZ4",
        "outputId": "e68d3626-30af-40c1-dfbc-fbc518855955"
      },
      "execution_count": 2,
      "outputs": [
        {
          "output_type": "stream",
          "name": "stdout",
          "text": [
            "Downloading data from https://www.cs.toronto.edu/~kriz/cifar-10-python.tar.gz\n",
            "170498071/170498071 [==============================] - 6s 0us/step\n"
          ]
        }
      ]
    },
    {
      "cell_type": "code",
      "source": [
        "model = keras.Sequential([\n",
        "    layers.Conv2D(32,(3,3), activation = 'relu' ,input_shape=(32,32,3)),\n",
        "    layers.MaxPooling2D((2,2)),\n",
        "    layers.Conv2D(64,(3,3),activation='relu'),\n",
        "    layers.Flatten(),\n",
        "    layers.Dense(64, activation ='relu'),\n",
        "    layers.Dense(10)\n",
        "])"
      ],
      "metadata": {
        "id": "xQIkV9zNfBdR"
      },
      "execution_count": 3,
      "outputs": []
    },
    {
      "cell_type": "code",
      "source": [
        "model.compile(optimizer='adam',\n",
        "              loss=tf.keras.losses.SparseCategoricalCrossentropy(from_logits=True),\n",
        "              metrics=['accuracy'])"
      ],
      "metadata": {
        "id": "DAo5oQG7fNvl"
      },
      "execution_count": 4,
      "outputs": []
    },
    {
      "cell_type": "code",
      "source": [
        "model.fit(x_train,y_train,epochs=10,validation_data=(x_test,y_test))\n",
        "\n",
        "test_loss,test_acc= model.evaluate(x_test,y_test,verbose=2)"
      ],
      "metadata": {
        "colab": {
          "base_uri": "https://localhost:8080/"
        },
        "id": "qx8IH8QmfNyW",
        "outputId": "3d58d68e-aab7-4d17-f828-f101961af4c5"
      },
      "execution_count": 5,
      "outputs": [
        {
          "output_type": "stream",
          "name": "stdout",
          "text": [
            "Epoch 1/10\n",
            "1563/1563 [==============================] - 72s 46ms/step - loss: 1.4217 - accuracy: 0.4879 - val_loss: 1.1857 - val_accuracy: 0.5829\n",
            "Epoch 2/10\n",
            "1563/1563 [==============================] - 74s 47ms/step - loss: 1.0766 - accuracy: 0.6219 - val_loss: 1.0314 - val_accuracy: 0.6396\n",
            "Epoch 3/10\n",
            "1563/1563 [==============================] - 73s 46ms/step - loss: 0.9312 - accuracy: 0.6767 - val_loss: 1.0374 - val_accuracy: 0.6408\n",
            "Epoch 4/10\n",
            "1563/1563 [==============================] - 73s 47ms/step - loss: 0.8297 - accuracy: 0.7125 - val_loss: 0.9513 - val_accuracy: 0.6735\n",
            "Epoch 5/10\n",
            "1563/1563 [==============================] - 72s 46ms/step - loss: 0.7436 - accuracy: 0.7406 - val_loss: 0.9658 - val_accuracy: 0.6748\n",
            "Epoch 6/10\n",
            "1563/1563 [==============================] - 71s 45ms/step - loss: 0.6725 - accuracy: 0.7657 - val_loss: 0.9676 - val_accuracy: 0.6790\n",
            "Epoch 7/10\n",
            "1563/1563 [==============================] - 72s 46ms/step - loss: 0.6044 - accuracy: 0.7897 - val_loss: 0.9695 - val_accuracy: 0.6862\n",
            "Epoch 8/10\n",
            "1563/1563 [==============================] - 75s 48ms/step - loss: 0.5390 - accuracy: 0.8119 - val_loss: 1.1106 - val_accuracy: 0.6623\n",
            "Epoch 9/10\n",
            "1563/1563 [==============================] - 72s 46ms/step - loss: 0.4869 - accuracy: 0.8293 - val_loss: 1.0678 - val_accuracy: 0.6775\n",
            "Epoch 10/10\n",
            "1563/1563 [==============================] - 72s 46ms/step - loss: 0.4305 - accuracy: 0.8483 - val_loss: 1.1278 - val_accuracy: 0.6733\n",
            "313/313 - 4s - loss: 1.1278 - accuracy: 0.6733 - 4s/epoch - 12ms/step\n"
          ]
        }
      ]
    },
    {
      "cell_type": "code",
      "source": [
        "print(f'Test accuracy: {test_acc}')"
      ],
      "metadata": {
        "colab": {
          "base_uri": "https://localhost:8080/"
        },
        "id": "H6emPuTVfN0Y",
        "outputId": "924df82c-de21-4889-ef78-9eb416047999"
      },
      "execution_count": 6,
      "outputs": [
        {
          "output_type": "stream",
          "name": "stdout",
          "text": [
            "Test accuracy: 0.67330002784729\n"
          ]
        }
      ]
    }
  ]
}